{
 "cells": [
  {
   "cell_type": "code",
   "execution_count": 15,
   "metadata": {
    "scrolled": false
   },
   "outputs": [
    {
     "data": {
      "text/html": [
       "<script>\n",
       "    // AUTORUN ALL CELLS ON NOTEBOOK-LOAD!\n",
       "    require(\n",
       "        ['base/js/namespace', 'jquery'], \n",
       "        function(jupyter, $) {\n",
       "            $(jupyter.events).on(\"kernel_ready.Kernel\", function () {\n",
       "                console.log(\"Auto-running all cells-below...\");\n",
       "                jupyter.actions.call('jupyter-notebook:run-all-cells-below');\n",
       "                jupyter.actions.call('jupyter-notebook:save-notebook');\n",
       "            });\n",
       "        }\n",
       "    );\n",
       "</script>\n"
      ],
      "text/plain": [
       "<IPython.core.display.HTML object>"
      ]
     },
     "metadata": {},
     "output_type": "display_data"
    }
   ],
   "source": [
    "%%html\n",
    "<script>\n",
    "    // AUTORUN ALL CELLS ON NOTEBOOK-LOAD!\n",
    "    require(\n",
    "        ['base/js/namespace', 'jquery'], \n",
    "        function(jupyter, $) {\n",
    "            $(jupyter.events).on(\"kernel_ready.Kernel\", function () {\n",
    "                console.log(\"Auto-running all cells-below...\");\n",
    "                jupyter.actions.call('jupyter-notebook:run-all-cells-below');\n",
    "                jupyter.actions.call('jupyter-notebook:save-notebook');\n",
    "            });\n",
    "        }\n",
    "    );\n",
    "</script>"
   ]
  },
  {
   "cell_type": "code",
   "execution_count": 22,
   "metadata": {
    "scrolled": true
   },
   "outputs": [
    {
     "data": {
      "text/html": [
       "<script>\n",
       "code_show=true; \n",
       "function code_toggle() {\n",
       " if (code_show){\n",
       " $('div.input').hide();\n",
       " } else {\n",
       " $('div.input').show();\n",
       " }\n",
       " code_show = !code_show\n",
       "} \n",
       "$( document ).ready(code_toggle);\n",
       "</script>\n",
       "<form action=\"javascript:code_toggle()\"><input type=\"submit\" value=\"Click here to toggle on/off the raw code.\"></form>"
      ],
      "text/plain": [
       "<IPython.core.display.HTML object>"
      ]
     },
     "execution_count": 22,
     "metadata": {},
     "output_type": "execute_result"
    }
   ],
   "source": [
    "from IPython.display import HTML\n",
    "\n",
    "HTML('''<script>\n",
    "code_show=true; \n",
    "function code_toggle() {\n",
    " if (code_show){\n",
    " $('div.input').hide();\n",
    " } else {\n",
    " $('div.input').show();\n",
    " }\n",
    " code_show = !code_show\n",
    "} \n",
    "$( document ).ready(code_toggle);\n",
    "</script>\n",
    "<form action=\"javascript:code_toggle()\"><input type=\"submit\" value=\"Click here to toggle on/off the raw code.\"></form>''')"
   ]
  },
  {
   "cell_type": "code",
   "execution_count": 17,
   "metadata": {
    "scrolled": false
   },
   "outputs": [],
   "source": [
    "## Load data for future cells\n",
    "\n",
    "import numpy as np\n",
    "import pandas as pd\n",
    "import csv\n",
    "import random\n",
    "import uuid\n",
    "\n",
    "from sklearn.ensemble import ExtraTreesClassifier, RandomForestClassifier\n",
    "from sklearn.metrics import accuracy_score, f1_score\n",
    "from sklearn.model_selection import train_test_split\n",
    "\n",
    "import matplotlib.pyplot as plt\n",
    "\n",
    "df = pd.read_csv(\"nyc-rolling-sales.csv\")\n",
    "\n",
    "#filter out rows\n",
    "#BOROUGH:\n",
    "#Manhattan (1), Bronx (2), Brooklyn (3), Queens (4), and Staten Island (5)\n",
    "#singleFamilyHomes = [\"A1\", \"A2\", \"A3\", \"A4\", \"A5\", \"A6\", \"A7\", \"A8\", \"A9\", \"C9\"] #no need, just RESIDENTIAL UNITS == 1\n",
    "\n",
    "    \n",
    "## filter rows\n",
    "# remove null strings\n",
    "df = df[df[\"YEAR BUILT\"] != 0]\n",
    "df = df[df[\"ZIP CODE\"] != 0]\n",
    "df = df[df[\"SALE PRICE\"] != ' -  ']\n",
    "df = df[df[\"LAND SQUARE FEET\"] != ' -  ']\n",
    "df = df[df[\"GROSS SQUARE FEET\"] != ' -  ']\n",
    "# convert to numeric\n",
    "df[\"BOROUGH\"] = df[\"BOROUGH\"].apply(np.int64)\n",
    "df[\"SALE PRICE\"] = pd.to_numeric(df[\"SALE PRICE\"])\n",
    "df[\"LAND SQUARE FEET\"] = pd.to_numeric(df[\"LAND SQUARE FEET\"])\n",
    "df[\"GROSS SQUARE FEET\"] = pd.to_numeric(df[\"GROSS SQUARE FEET\"])\n",
    "df = df[df[\"LAND SQUARE FEET\"] != 0]\n",
    "df = df[df[\"GROSS SQUARE FEET\"] != 0]\n",
    "\n",
    "#only get estates with 1 residential unit (single family homes)\n",
    "df = df[df[\"RESIDENTIAL UNITS\"] == 1]\n",
    "\n",
    "# remove estates that cost less than 10k, as they could be in-family\n",
    "# transfers or errant rows\n",
    "df = df[df[\"SALE PRICE\"] > 10000]\n",
    "\n",
    "#link boroughs to zipcodes:\n",
    "# borough-zipcode data linkage:\n",
    "# -drop all non-unique zipcode rows from the dataframe\n",
    "# then do the following:\n",
    "# pd.set_option(\"display.max_rows\", None, \"display.max_columns\", None)\n",
    "# df[[\"BOROUGH\", \"ZIP CODE\"]]\n",
    "borough1_zipcodes = [10011,10013,10012,10003,10014,10030,10031,10029,10463,10017,10022,10036,10016,10065,10021,10075,10028,10128,10023,10024,10025]\n",
    "borough2_zipcodes = [10457,10458,10469,10466,10475,10468,10467,10473,10472,10464,10803,10465,10460,10471,10453,10452,10474,10451,10456,10462,10461,10455,10459,10454,10470]\n",
    "borough3_zipcodes = [11228,11214,11220,11209,11221,11233,11213,11206,11216,11205,11238,11204,11219,11234,11217,11201,11218,11235,11212,11237,11207,11236,11239,11231,11224,11225,11208,11226,11210,11230,11203,11229,11215,11223,11222,11211,11232,11249]\n",
    "borough4_zipcodes = [11370,11691,11692,11106,11103,11377,11105,11102,11361,11360,11357,11358,11364,11694,11426,11428,11004,11001,11435,11693,11411,11356,11354,11368,11363,11362,11369,11373, 11378, 11040, 11355, 11365, 11367, 11366, 11375, 11374, 11385, 11421, 11432, 11423, 11412, 11427, 11429, 11414, 11372, 11433, 11422, 11418, 11415, 11413, 11101, 11379, 11416, 11417, 11420, 11419, 11436, 11434, 11104]\n",
    "borough5_zipcodes = [10312,10305,10314,10303,10310,10302,10301,10304,10306,10308,10309,10307]\n",
    "borough_list = [borough1_zipcodes,borough2_zipcodes,borough3_zipcodes,borough4_zipcodes,borough5_zipcodes]\n",
    "\n",
    "#convert date\n",
    "df[\"SALE DATE\"] = pd.to_datetime(df[\"SALE DATE\"])\n",
    "df['SALE MONTH'] = pd.DatetimeIndex(df['SALE DATE']).month\n",
    "\n",
    "## filter columns\n",
    "df = df[['BUILDING CLASS AT TIME OF SALE','RESIDENTIAL UNITS','SALE DATE',\n",
    "         'BOROUGH','ZIP CODE','YEAR BUILT','SALE MONTH','LAND SQUARE FEET','GROSS SQUARE FEET','SALE PRICE']]\n",
    "\n",
    "## rescale indexes to new size\n",
    "df.index = range(0, len(df))"
   ]
  },
  {
   "cell_type": "markdown",
   "metadata": {},
   "source": [
    "# Predictive Method"
   ]
  },
  {
   "cell_type": "code",
   "execution_count": 18,
   "metadata": {
    "scrolled": false
   },
   "outputs": [
    {
     "name": "stdout",
     "output_type": "stream",
     "text": [
      "R2: 0.46003940688969813\n",
      "Mean Absolute Error: 182013.87350262763\n",
      "Mean Squared Error: 599892130725.1577\n",
      "Root Mean Squared Error: 774527.03679417\n",
      "Max Error: 26417341.821000002\n"
     ]
    }
   ],
   "source": [
    "## Predictive method using deep forest regression\n",
    "#train the deep forest model\n",
    "\n",
    "X = df.iloc[:, 3:9].values\n",
    "y = df.iloc[:, 9].values\n",
    "\n",
    "#\n",
    "from sklearn.model_selection import train_test_split\n",
    "\n",
    "X_train, X_test, y_train, y_test = train_test_split(X, y, test_size=0.2, random_state=0)\n",
    "\n",
    "# Feature Scaling\n",
    "#from sklearn.preprocessing import StandardScaler\n",
    "\n",
    "from sklearn.ensemble import RandomForestRegressor\n",
    "\n",
    "regressor = RandomForestRegressor(n_estimators=1000, random_state=0)\n",
    "regressor.fit(X_train, y_train)\n",
    "y_pred = regressor.predict(X_test)\n",
    "\n",
    "#print(y_pred)\n",
    "\n",
    "#evaluate the model\n",
    "from sklearn import metrics\n",
    "\n",
    "print('R2:', metrics.r2_score(y_test, y_pred)) #coefficient of determination\n",
    "print('Mean Absolute Error:', metrics.mean_absolute_error(y_test, y_pred))\n",
    "print('Mean Squared Error:', metrics.mean_squared_error(y_test, y_pred))\n",
    "print('Root Mean Squared Error:', np.sqrt(metrics.mean_squared_error(y_test, y_pred)))\n",
    "print('Max Error:', metrics.max_error(y_test, y_pred))\n",
    "\n",
    "\n"
   ]
  },
  {
   "cell_type": "markdown",
   "metadata": {},
   "source": [
    "### Predictive Method GUI\n",
    "Use a deep forest model to predict how much a single-family house would cost depending on the location, month of sale, and unit specifications."
   ]
  },
  {
   "cell_type": "code",
   "execution_count": 19,
   "metadata": {
    "scrolled": false
   },
   "outputs": [
    {
     "data": {
      "application/vnd.jupyter.widget-view+json": {
       "model_id": "fd20ba7c485c4f2d91d3db8328c4820e",
       "version_major": 2,
       "version_minor": 0
      },
      "text/plain": [
       "SelectionSlider(continuous_update=False, description='Month bought in 2016/2017:', index=8, layout=Layout(heig…"
      ]
     },
     "metadata": {},
     "output_type": "display_data"
    },
    {
     "data": {
      "application/vnd.jupyter.widget-view+json": {
       "model_id": "0ea48774261a476f97f034f99b7b87da",
       "version_major": 2,
       "version_minor": 0
      },
      "text/plain": [
       "IntSlider(value=1950, continuous_update=False, description='Year house was built:', layout=Layout(height='30px…"
      ]
     },
     "metadata": {},
     "output_type": "display_data"
    },
    {
     "data": {
      "application/vnd.jupyter.widget-view+json": {
       "model_id": "29715432fcef4a0f9061133ecfbc0c68",
       "version_major": 2,
       "version_minor": 0
      },
      "text/plain": [
       "Dropdown(description='Location:', layout=Layout(height='30px', width='32%'), options=(('Manhattan - 10011', '1…"
      ]
     },
     "metadata": {},
     "output_type": "display_data"
    },
    {
     "data": {
      "application/vnd.jupyter.widget-view+json": {
       "model_id": "026ab3a852e64854897f0a7c96991840",
       "version_major": 2,
       "version_minor": 0
      },
      "text/plain": [
       "BoundedIntText(value=1975, description='Land sq.ft.', layout=Layout(height='30px', width='32%'), max=10000, st…"
      ]
     },
     "metadata": {},
     "output_type": "display_data"
    },
    {
     "data": {
      "application/vnd.jupyter.widget-view+json": {
       "model_id": "d450ae7788114483a5b717ba671d34ac",
       "version_major": 2,
       "version_minor": 0
      },
      "text/plain": [
       "BoundedIntText(value=3855, description='Gross sq.ft.', layout=Layout(height='30px', width='32%'), max=10000, s…"
      ]
     },
     "metadata": {},
     "output_type": "display_data"
    },
    {
     "data": {
      "application/vnd.jupyter.widget-view+json": {
       "model_id": "d6a37eda82c04490bec79edce92c79da",
       "version_major": 2,
       "version_minor": 0
      },
      "text/plain": [
       "HTML(value='<p style=\"font-size:2em\">Click \"Generate report\" to get an estimate for a residence price.</p>')"
      ]
     },
     "metadata": {},
     "output_type": "display_data"
    },
    {
     "data": {
      "application/vnd.jupyter.widget-view+json": {
       "model_id": "91efd4e7183b413f83e80a908b5ae9ff",
       "version_major": 2,
       "version_minor": 0
      },
      "text/plain": [
       "Button(button_style='success', description='Generate report', style=ButtonStyle(), tooltip='Click me')"
      ]
     },
     "metadata": {},
     "output_type": "display_data"
    },
    {
     "data": {
      "application/vnd.jupyter.widget-view+json": {
       "model_id": "b795babc376f436dbb02cb7cbc903d04",
       "version_major": 2,
       "version_minor": 0
      },
      "text/plain": [
       "Output()"
      ]
     },
     "metadata": {},
     "output_type": "display_data"
    }
   ],
   "source": [
    "# UI\n",
    "import ipywidgets as widgets\n",
    "\n",
    "wide_layout=widgets.Layout(width='40%', height='30px')\n",
    "med_layout=widgets.Layout(width='32%', height='30px')\n",
    "label_layout={'description_width': 'initial'}\n",
    "## Month slider\n",
    "user_month = widgets.SelectionSlider(\n",
    "    options=[('January', 1),\n",
    "             ('February', 2),\n",
    "             ('March', 3),\n",
    "             ('April', 4),\n",
    "             (\"May\", 5),\n",
    "             (\"June\", 6),\n",
    "             (\"July\", 7),\n",
    "             (\"August\", 8),\n",
    "             (\"September\", 9),\n",
    "             (\"October\", 10),\n",
    "             (\"November\", 11),\n",
    "             (\"December\",12)],\n",
    "    value=9,\n",
    "    description='Month bought in 2016/2017:',\n",
    "    disabled=False,\n",
    "    continuous_update=False,\n",
    "    orientation='horizontal',\n",
    "    readout=True,\n",
    "    style=label_layout,\n",
    "    layout=wide_layout\n",
    ")\n",
    "\n",
    "display(user_month)\n",
    "\n",
    "##\n",
    "user_yearbuilt = widgets.IntSlider(\n",
    "    value=1950,\n",
    "    min=1899,\n",
    "    max=2016,\n",
    "    step=1,\n",
    "    description='Year house was built:',\n",
    "    disabled=False,\n",
    "    continuous_update=False,\n",
    "    orientation='horizontal',\n",
    "    readout=True,\n",
    "    readout_format='d',\n",
    "    style=label_layout,\n",
    "    layout=wide_layout\n",
    ")\n",
    "display(user_yearbuilt)\n",
    "\n",
    "## Borough/zip code dropdown\n",
    "borough_zipcode_array = []\n",
    "for line in borough1_zipcodes:\n",
    "    #output example: (\"Manhattan - zipcode\", zipcode)\n",
    "    borough_zipcode_array.append(\n",
    "        tuple((\"Manhattan - \" + str(line), str(line)))\n",
    "    )\n",
    "for line in borough2_zipcodes:\n",
    "    borough_zipcode_array.append(\n",
    "        tuple((\"Bronx - \" + str(line), str(line)))\n",
    "    )\n",
    "for line in borough3_zipcodes:\n",
    "    borough_zipcode_array.append(\n",
    "        tuple((\"Brooklyn - \" + str(line), str(line)))\n",
    "    )\n",
    "for line in borough4_zipcodes:\n",
    "    borough_zipcode_array.append(\n",
    "        tuple((\"Queens - \" + str(line), str(line)))\n",
    "    )\n",
    "for line in borough5_zipcodes:\n",
    "    borough_zipcode_array.append(\n",
    "        tuple((\"Staten Island - \" + str(line), str(line)))\n",
    "    )\n",
    "\n",
    "user_borough = 1\n",
    "user_zipcode = widgets.Dropdown(\n",
    "    options=borough_zipcode_array,#[('Manhattan', 1), ('Bronx', 2), ('Brooklyn', 3), ('Queens', 4), ('Staten Island', 5)],\n",
    "\n",
    "    description='Location:',\n",
    "    style=label_layout,\n",
    "    layout=med_layout\n",
    ")\n",
    "display(user_zipcode)\n",
    "\n",
    "\n",
    "## size\n",
    "user_land_sqrft= widgets.BoundedIntText(\n",
    "    value=1975,\n",
    "    min=0,\n",
    "    max=10000,\n",
    "    step=1,\n",
    "    description='Land sq.ft.',\n",
    "    disabled=False,\n",
    "    style=label_layout,\n",
    "    layout=med_layout\n",
    ")\n",
    "display(user_land_sqrft)\n",
    "user_gross_sqrft = widgets.BoundedIntText(\n",
    "    value=3855,\n",
    "    min=0,\n",
    "    max=10000,\n",
    "    step=1,\n",
    "    description='Gross sq.ft.',\n",
    "    disabled=False,\n",
    "    style=label_layout,\n",
    "    layout=med_layout\n",
    ")\n",
    "display(user_gross_sqrft)\n",
    "\n",
    "## Output text\n",
    "final_output = widgets.HTML(value = f'<p style=\"font-size:2em\">Click \"Generate report\" to get an estimate for a residence price.</p>')\n",
    "\n",
    "display(final_output)\n",
    "## Generate button\n",
    "gen_button = widgets.Button(\n",
    "    description='Generate report',\n",
    "    disabled=False,\n",
    "    button_style='success', # 'success', 'info', 'warning', 'danger' or ''\n",
    "    tooltip='Click me',\n",
    "    icon='' # (FontAwesome names without the `fa-` prefix)\n",
    ")\n",
    "gen_output = widgets.Output()\n",
    "\n",
    "display(gen_button, gen_output)\n",
    "\n",
    "\n",
    "def on_button_clicked(b):\n",
    "                \n",
    "    with gen_output:\n",
    "        \n",
    "        # get borough id from zipcode\n",
    "        for index, b in enumerate(borough_list):\n",
    "            if(int(user_zipcode.value) in b):\n",
    "                user_borough = index + 1\n",
    "        \n",
    "        #predict new result\n",
    "        sample = np.array([user_borough,\n",
    "                           user_zipcode.value,\n",
    "                           user_yearbuilt.value,\n",
    "                           user_month.value,\n",
    "                           user_land_sqrft.value,\n",
    "                           user_gross_sqrft.value]).reshape(1, -1)\n",
    "        y_pred = regressor.predict(sample)\n",
    "        \n",
    "        \n",
    "        final_output.value = \"<p style='font-size:2em'>Projected residence price: <font color='green'>$\" + f\"{int(y_pred):,d}</b></p>\"\n",
    "        print(\"Projected residance price: $\" + f\"{int(y_pred):,d}\")\n",
    "        \n",
    "\n",
    "gen_button.on_click(on_button_clicked)"
   ]
  },
  {
   "cell_type": "markdown",
   "metadata": {},
   "source": [
    "### Comparision of actual values in the dataset and predicted values using our model\n",
    "Given the same input parameters (location, month of sale, characteristics of housing unit), what is the actual price of the house and what does our model predict the price to be?"
   ]
  },
  {
   "cell_type": "code",
   "execution_count": 20,
   "metadata": {
    "scrolled": false
   },
   "outputs": [
    {
     "data": {
      "text/html": [
       "<style  type=\"text/css\" >\n",
       "</style><table id=\"T_8fc3751e_32ba_11eb_98dc_646e6965684e\" ><thead>    <tr>        <th class=\"blank level0\" ></th>        <th class=\"col_heading level0 col0\" >Actual Value</th>        <th class=\"col_heading level0 col1\" >Predicted Value</th>    </tr></thead><tbody>\n",
       "                <tr>\n",
       "                        <th id=\"T_8fc3751e_32ba_11eb_98dc_646e6965684elevel0_row0\" class=\"row_heading level0 row0\" >0</th>\n",
       "                        <td id=\"T_8fc3751e_32ba_11eb_98dc_646e6965684erow0_col0\" class=\"data row0 col0\" >297,500</td>\n",
       "                        <td id=\"T_8fc3751e_32ba_11eb_98dc_646e6965684erow0_col1\" class=\"data row0 col1\" >494,263</td>\n",
       "            </tr>\n",
       "            <tr>\n",
       "                        <th id=\"T_8fc3751e_32ba_11eb_98dc_646e6965684elevel0_row1\" class=\"row_heading level0 row1\" >1</th>\n",
       "                        <td id=\"T_8fc3751e_32ba_11eb_98dc_646e6965684erow1_col0\" class=\"data row1 col0\" >1,458,800</td>\n",
       "                        <td id=\"T_8fc3751e_32ba_11eb_98dc_646e6965684erow1_col1\" class=\"data row1 col1\" >1,095,565</td>\n",
       "            </tr>\n",
       "            <tr>\n",
       "                        <th id=\"T_8fc3751e_32ba_11eb_98dc_646e6965684elevel0_row2\" class=\"row_heading level0 row2\" >2</th>\n",
       "                        <td id=\"T_8fc3751e_32ba_11eb_98dc_646e6965684erow2_col0\" class=\"data row2 col0\" >5,091,250</td>\n",
       "                        <td id=\"T_8fc3751e_32ba_11eb_98dc_646e6965684erow2_col1\" class=\"data row2 col1\" >3,895,252</td>\n",
       "            </tr>\n",
       "            <tr>\n",
       "                        <th id=\"T_8fc3751e_32ba_11eb_98dc_646e6965684elevel0_row3\" class=\"row_heading level0 row3\" >3</th>\n",
       "                        <td id=\"T_8fc3751e_32ba_11eb_98dc_646e6965684erow3_col0\" class=\"data row3 col0\" >320,000</td>\n",
       "                        <td id=\"T_8fc3751e_32ba_11eb_98dc_646e6965684erow3_col1\" class=\"data row3 col1\" >353,606</td>\n",
       "            </tr>\n",
       "            <tr>\n",
       "                        <th id=\"T_8fc3751e_32ba_11eb_98dc_646e6965684elevel0_row4\" class=\"row_heading level0 row4\" >4</th>\n",
       "                        <td id=\"T_8fc3751e_32ba_11eb_98dc_646e6965684erow4_col0\" class=\"data row4 col0\" >600,000</td>\n",
       "                        <td id=\"T_8fc3751e_32ba_11eb_98dc_646e6965684erow4_col1\" class=\"data row4 col1\" >601,710</td>\n",
       "            </tr>\n",
       "            <tr>\n",
       "                        <th id=\"T_8fc3751e_32ba_11eb_98dc_646e6965684elevel0_row5\" class=\"row_heading level0 row5\" >5</th>\n",
       "                        <td id=\"T_8fc3751e_32ba_11eb_98dc_646e6965684erow5_col0\" class=\"data row5 col0\" >415,000</td>\n",
       "                        <td id=\"T_8fc3751e_32ba_11eb_98dc_646e6965684erow5_col1\" class=\"data row5 col1\" >374,468</td>\n",
       "            </tr>\n",
       "            <tr>\n",
       "                        <th id=\"T_8fc3751e_32ba_11eb_98dc_646e6965684elevel0_row6\" class=\"row_heading level0 row6\" >6</th>\n",
       "                        <td id=\"T_8fc3751e_32ba_11eb_98dc_646e6965684erow6_col0\" class=\"data row6 col0\" >500,000</td>\n",
       "                        <td id=\"T_8fc3751e_32ba_11eb_98dc_646e6965684erow6_col1\" class=\"data row6 col1\" >365,368</td>\n",
       "            </tr>\n",
       "            <tr>\n",
       "                        <th id=\"T_8fc3751e_32ba_11eb_98dc_646e6965684elevel0_row7\" class=\"row_heading level0 row7\" >7</th>\n",
       "                        <td id=\"T_8fc3751e_32ba_11eb_98dc_646e6965684erow7_col0\" class=\"data row7 col0\" >999,999</td>\n",
       "                        <td id=\"T_8fc3751e_32ba_11eb_98dc_646e6965684erow7_col1\" class=\"data row7 col1\" >1,023,600</td>\n",
       "            </tr>\n",
       "            <tr>\n",
       "                        <th id=\"T_8fc3751e_32ba_11eb_98dc_646e6965684elevel0_row8\" class=\"row_heading level0 row8\" >8</th>\n",
       "                        <td id=\"T_8fc3751e_32ba_11eb_98dc_646e6965684erow8_col0\" class=\"data row8 col0\" >855,000</td>\n",
       "                        <td id=\"T_8fc3751e_32ba_11eb_98dc_646e6965684erow8_col1\" class=\"data row8 col1\" >830,509</td>\n",
       "            </tr>\n",
       "            <tr>\n",
       "                        <th id=\"T_8fc3751e_32ba_11eb_98dc_646e6965684elevel0_row9\" class=\"row_heading level0 row9\" >9</th>\n",
       "                        <td id=\"T_8fc3751e_32ba_11eb_98dc_646e6965684erow9_col0\" class=\"data row9 col0\" >1,100,000</td>\n",
       "                        <td id=\"T_8fc3751e_32ba_11eb_98dc_646e6965684erow9_col1\" class=\"data row9 col1\" >865,423</td>\n",
       "            </tr>\n",
       "            <tr>\n",
       "                        <th id=\"T_8fc3751e_32ba_11eb_98dc_646e6965684elevel0_row10\" class=\"row_heading level0 row10\" >10</th>\n",
       "                        <td id=\"T_8fc3751e_32ba_11eb_98dc_646e6965684erow10_col0\" class=\"data row10 col0\" >1,250,000</td>\n",
       "                        <td id=\"T_8fc3751e_32ba_11eb_98dc_646e6965684erow10_col1\" class=\"data row10 col1\" >946,744</td>\n",
       "            </tr>\n",
       "            <tr>\n",
       "                        <th id=\"T_8fc3751e_32ba_11eb_98dc_646e6965684elevel0_row11\" class=\"row_heading level0 row11\" >11</th>\n",
       "                        <td id=\"T_8fc3751e_32ba_11eb_98dc_646e6965684erow11_col0\" class=\"data row11 col0\" >480,000</td>\n",
       "                        <td id=\"T_8fc3751e_32ba_11eb_98dc_646e6965684erow11_col1\" class=\"data row11 col1\" >498,139</td>\n",
       "            </tr>\n",
       "            <tr>\n",
       "                        <th id=\"T_8fc3751e_32ba_11eb_98dc_646e6965684elevel0_row12\" class=\"row_heading level0 row12\" >12</th>\n",
       "                        <td id=\"T_8fc3751e_32ba_11eb_98dc_646e6965684erow12_col0\" class=\"data row12 col0\" >440,000</td>\n",
       "                        <td id=\"T_8fc3751e_32ba_11eb_98dc_646e6965684erow12_col1\" class=\"data row12 col1\" >371,027</td>\n",
       "            </tr>\n",
       "            <tr>\n",
       "                        <th id=\"T_8fc3751e_32ba_11eb_98dc_646e6965684elevel0_row13\" class=\"row_heading level0 row13\" >13</th>\n",
       "                        <td id=\"T_8fc3751e_32ba_11eb_98dc_646e6965684erow13_col0\" class=\"data row13 col0\" >315,000</td>\n",
       "                        <td id=\"T_8fc3751e_32ba_11eb_98dc_646e6965684erow13_col1\" class=\"data row13 col1\" >376,162</td>\n",
       "            </tr>\n",
       "            <tr>\n",
       "                        <th id=\"T_8fc3751e_32ba_11eb_98dc_646e6965684elevel0_row14\" class=\"row_heading level0 row14\" >14</th>\n",
       "                        <td id=\"T_8fc3751e_32ba_11eb_98dc_646e6965684erow14_col0\" class=\"data row14 col0\" >659,000</td>\n",
       "                        <td id=\"T_8fc3751e_32ba_11eb_98dc_646e6965684erow14_col1\" class=\"data row14 col1\" >678,192</td>\n",
       "            </tr>\n",
       "            <tr>\n",
       "                        <th id=\"T_8fc3751e_32ba_11eb_98dc_646e6965684elevel0_row15\" class=\"row_heading level0 row15\" >15</th>\n",
       "                        <td id=\"T_8fc3751e_32ba_11eb_98dc_646e6965684erow15_col0\" class=\"data row15 col0\" >385,000</td>\n",
       "                        <td id=\"T_8fc3751e_32ba_11eb_98dc_646e6965684erow15_col1\" class=\"data row15 col1\" >441,599</td>\n",
       "            </tr>\n",
       "            <tr>\n",
       "                        <th id=\"T_8fc3751e_32ba_11eb_98dc_646e6965684elevel0_row16\" class=\"row_heading level0 row16\" >16</th>\n",
       "                        <td id=\"T_8fc3751e_32ba_11eb_98dc_646e6965684erow16_col0\" class=\"data row16 col0\" >1,150,000</td>\n",
       "                        <td id=\"T_8fc3751e_32ba_11eb_98dc_646e6965684erow16_col1\" class=\"data row16 col1\" >924,113</td>\n",
       "            </tr>\n",
       "            <tr>\n",
       "                        <th id=\"T_8fc3751e_32ba_11eb_98dc_646e6965684elevel0_row17\" class=\"row_heading level0 row17\" >17</th>\n",
       "                        <td id=\"T_8fc3751e_32ba_11eb_98dc_646e6965684erow17_col0\" class=\"data row17 col0\" >800,000</td>\n",
       "                        <td id=\"T_8fc3751e_32ba_11eb_98dc_646e6965684erow17_col1\" class=\"data row17 col1\" >597,423</td>\n",
       "            </tr>\n",
       "            <tr>\n",
       "                        <th id=\"T_8fc3751e_32ba_11eb_98dc_646e6965684elevel0_row18\" class=\"row_heading level0 row18\" >18</th>\n",
       "                        <td id=\"T_8fc3751e_32ba_11eb_98dc_646e6965684erow18_col0\" class=\"data row18 col0\" >600,000</td>\n",
       "                        <td id=\"T_8fc3751e_32ba_11eb_98dc_646e6965684erow18_col1\" class=\"data row18 col1\" >583,436</td>\n",
       "            </tr>\n",
       "            <tr>\n",
       "                        <th id=\"T_8fc3751e_32ba_11eb_98dc_646e6965684elevel0_row19\" class=\"row_heading level0 row19\" >19</th>\n",
       "                        <td id=\"T_8fc3751e_32ba_11eb_98dc_646e6965684erow19_col0\" class=\"data row19 col0\" >530,000</td>\n",
       "                        <td id=\"T_8fc3751e_32ba_11eb_98dc_646e6965684erow19_col1\" class=\"data row19 col1\" >561,667</td>\n",
       "            </tr>\n",
       "    </tbody></table>"
      ],
      "text/plain": [
       "<pandas.io.formats.style.Styler at 0x16677164fc8>"
      ]
     },
     "execution_count": 20,
     "metadata": {},
     "output_type": "execute_result"
    }
   ],
   "source": [
    "pd.DataFrame({'Actual Value':y_test.reshape(-1), 'Predicted Value':y_pred.reshape(-1)}).head(n=20).style.format(\"{:,.0f}\")"
   ]
  },
  {
   "cell_type": "markdown",
   "metadata": {},
   "source": [
    "### Visualize the regression model\n",
    "See an example of the effect of some input parameters (location, month of sale, characteristics of housing unit) on the predicted house price using a regression scatter plot."
   ]
  },
  {
   "cell_type": "code",
   "execution_count": 21,
   "metadata": {
    "scrolled": false
   },
   "outputs": [
    {
     "ename": "NameError",
     "evalue": "name 'sns' is not defined",
     "output_type": "error",
     "traceback": [
      "\u001b[1;31m---------------------------------------------------------------------------\u001b[0m",
      "\u001b[1;31mNameError\u001b[0m                                 Traceback (most recent call last)",
      "\u001b[1;32m<ipython-input-21-3e009d2730ce>\u001b[0m in \u001b[0;36m<module>\u001b[1;34m\u001b[0m\n\u001b[0;32m      1\u001b[0m \u001b[1;32mfrom\u001b[0m \u001b[0mmatplotlib\u001b[0m\u001b[1;33m.\u001b[0m\u001b[0mticker\u001b[0m \u001b[1;32mimport\u001b[0m \u001b[0mFuncFormatter\u001b[0m\u001b[1;33m\u001b[0m\u001b[1;33m\u001b[0m\u001b[0m\n\u001b[0;32m      2\u001b[0m \u001b[1;31m# visualizing regression model\u001b[0m\u001b[1;33m\u001b[0m\u001b[1;33m\u001b[0m\u001b[1;33m\u001b[0m\u001b[0m\n\u001b[1;32m----> 3\u001b[1;33m \u001b[0msns\u001b[0m\u001b[1;33m.\u001b[0m\u001b[0mregplot\u001b[0m\u001b[1;33m(\u001b[0m\u001b[0mx\u001b[0m\u001b[1;33m=\u001b[0m\u001b[1;34m\"GROSS SQUARE FEET\"\u001b[0m\u001b[1;33m,\u001b[0m \u001b[0my\u001b[0m\u001b[1;33m=\u001b[0m\u001b[1;34m\"SALE PRICE\"\u001b[0m\u001b[1;33m,\u001b[0m \u001b[0mdata\u001b[0m\u001b[1;33m=\u001b[0m\u001b[0mdf\u001b[0m\u001b[1;33m)\u001b[0m\u001b[1;33m;\u001b[0m\u001b[1;33m\u001b[0m\u001b[1;33m\u001b[0m\u001b[0m\n\u001b[0m\u001b[0;32m      4\u001b[0m \u001b[1;33m\u001b[0m\u001b[0m\n\u001b[0;32m      5\u001b[0m \u001b[0mplt\u001b[0m\u001b[1;33m.\u001b[0m\u001b[0mtitle\u001b[0m\u001b[1;33m(\u001b[0m\u001b[1;34m'Effect of Gross size on Sale Price in Regression Model'\u001b[0m\u001b[1;33m)\u001b[0m\u001b[1;33m\u001b[0m\u001b[1;33m\u001b[0m\u001b[0m\n",
      "\u001b[1;31mNameError\u001b[0m: name 'sns' is not defined"
     ]
    }
   ],
   "source": [
    "from matplotlib.ticker import FuncFormatter\n",
    "# visualizing regression model\n",
    "sns.regplot(x=\"GROSS SQUARE FEET\", y=\"SALE PRICE\", data=df);\n",
    "\n",
    "plt.title('Effect of Gross size on Sale Price in Regression Model')\n",
    "plt.xlabel('Gross sq.ft')\n",
    "plt.ylabel('Sale Price')\n",
    "plt.ticklabel_format(style='plain', axis='y')\n",
    "plt.show()"
   ]
  },
  {
   "cell_type": "markdown",
   "metadata": {},
   "source": [
    "# Descriptive Method\n",
    "The descriptive method is being computed. This section might take 1 minute to display images."
   ]
  },
  {
   "cell_type": "markdown",
   "metadata": {},
   "source": [
    "### Visualize Descriptive Clusters\n",
    "Visualize the clustering results of our data using scatter plots"
   ]
  },
  {
   "cell_type": "code",
   "execution_count": null,
   "metadata": {
    "scrolled": false
   },
   "outputs": [],
   "source": [
    "## Compute t-sne clusters for the descriptive method\n",
    "# takes one minute for this cell to finish running\n",
    "import matplotlib.pyplot as plt\n",
    "from sklearn.manifold import TSNE\n",
    "\n",
    "tsne = TSNE(n_components=2, verbose=1, perplexity=30, n_iter=1000, learning_rate=200)\n",
    "tsne_scale_results = tsne.fit_transform(df.iloc[:, 3:10])\n",
    "\n",
    "tsne_df_scale = pd.DataFrame(tsne_scale_results, columns=['tsne1', 'tsne2'])\n",
    "\n",
    "plt.figure(figsize = (10,10))\n",
    "plt.scatter(tsne_scale_results[:,0],tsne_scale_results[:,1],alpha=0.25, facecolor='lightslategray')\n",
    "plt.xlabel('Sale Month')\n",
    "plt.ylabel('Sale Price')\n",
    "plt.legend()\n",
    "plt.show()\n",
    "\n",
    "## calculate k-means clusters from\n",
    "from sklearn.cluster import KMeans\n",
    "import seaborn as sns\n",
    "\n",
    "# apply kmeans to t-sne clusters.\n",
    "sse = []\n",
    "k_list = range(1, 15)\n",
    "\n",
    "for k in k_list:\n",
    "    km = KMeans(n_clusters=k)\n",
    "    km.fit(tsne_df_scale)\n",
    "    sse.append([k, km.inertia_])\n",
    "    \n",
    "tsne_results_scale = pd.DataFrame({'Cluster': range(1,15), 'SSE': sse})\n",
    "\n",
    "plt.figure(figsize = (10,10))\n",
    "\n",
    "kmeans_tsne_scale = KMeans(n_clusters=4, n_init=100, max_iter=400, init='k-means++', random_state=42).fit(tsne_df_scale)\n",
    "labels_tsne_scale = kmeans_tsne_scale.labels_\n",
    "\n",
    "clusters_tsne_scale = pd.concat([tsne_df_scale, pd.DataFrame({'tsne_clusters':labels_tsne_scale})], axis=1)\n",
    "sns.scatterplot(clusters_tsne_scale.iloc[:,0],clusters_tsne_scale.iloc[:,1],hue=labels_tsne_scale, palette='Set1', s=100, alpha=0.6).set_title('Cluster Vis tSNE Scaled Data', fontsize=15)\n",
    "plt.legend()\n",
    "plt.show()"
   ]
  },
  {
   "cell_type": "markdown",
   "metadata": {},
   "source": [
    "Visualize a grid of the seperate properties of each of our 4 distinct k-means clusters using histograms"
   ]
  },
  {
   "cell_type": "code",
   "execution_count": null,
   "metadata": {
    "scrolled": false
   },
   "outputs": [],
   "source": [
    "import math\n",
    "import seaborn as sns\n",
    "\n",
    "cluster_tsne_profile = pd.merge(df, clusters_tsne_scale['tsne_clusters'], left_index=True, right_index=True)\n",
    "\n",
    "#\n",
    "from functools import partial\n",
    "bin_hist = partial(plt.hist,bins=20)\n",
    "\n",
    "for c in cluster_tsne_profile:\n",
    "    \n",
    "    # sale month is for regression only, we use sale date instead\n",
    "    if(c == \"SALE MONTH\" or c == \"RESIDENTIAL UNITS\"):\n",
    "        continue\n",
    "\n",
    "    grid = sns.FacetGrid(cluster_tsne_profile, col='tsne_clusters')\n",
    "    grid.map(bin_hist, c)\n",
    "    \n",
    "    if(c == \"SALE PRICE\"):\n",
    "        #grid.ticklabel_format(style='plain', axis='x')\n",
    "        grid.set_xticklabels(rotation=-30,style='normal')\n",
    "    \n",
    "    if(c == \"SALE DATE\" or c == \"ZIP CODE\" or c == \"LAND SQUARE FEET\" or c == \"GROSS SQUARE FEET\"):\n",
    "        grid.set_xticklabels(rotation=-30)\n",
    "        \n",
    "    if(c == \"BUILDING CLASS AT TIME OF SALE\"):\n",
    "        grid.set_xticklabels(fontsize=7)\n",
    "    \n",
    "    "
   ]
  },
  {
   "cell_type": "markdown",
   "metadata": {},
   "source": [
    "Visualize the multi-variable graph using scatter plots"
   ]
  },
  {
   "cell_type": "code",
   "execution_count": null,
   "metadata": {
    "scrolled": false
   },
   "outputs": [],
   "source": [
    "\n",
    "plt.figure(figsize=(5,10))\n",
    "fig, (ax1,ax2) = plt.subplots(1, 2, figsize=(20,15))\n",
    "\n",
    "# left graph\n",
    "sns.scatterplot(data=cluster_tsne_profile, x='YEAR BUILT', y='GROSS SQUARE FEET', hue='tsne_clusters', s=85, alpha=0.4, palette='bright', ax=ax1).set_title('(tSNE) Clusters by Year Built and Size', fontsize=18)\n",
    "\n",
    "# right graph.\n",
    "sns.scatterplot(data=cluster_tsne_profile, x='GROSS SQUARE FEET', y='SALE PRICE', hue='tsne_clusters', s=85, alpha=0.4, palette='bright', ax=ax2).set_title('(tSNE) Clusters by Gross Square Feet and Price', fontsize=18)\n"
   ]
  },
  {
   "cell_type": "code",
   "execution_count": null,
   "metadata": {
    "scrolled": false
   },
   "outputs": [],
   "source": []
  },
  {
   "cell_type": "code",
   "execution_count": null,
   "metadata": {
    "scrolled": false
   },
   "outputs": [],
   "source": []
  },
  {
   "cell_type": "code",
   "execution_count": null,
   "metadata": {
    "scrolled": false
   },
   "outputs": [],
   "source": []
  },
  {
   "cell_type": "code",
   "execution_count": null,
   "metadata": {
    "scrolled": false
   },
   "outputs": [],
   "source": []
  },
  {
   "cell_type": "code",
   "execution_count": null,
   "metadata": {
    "scrolled": false
   },
   "outputs": [],
   "source": []
  },
  {
   "cell_type": "code",
   "execution_count": null,
   "metadata": {
    "scrolled": false
   },
   "outputs": [],
   "source": []
  },
  {
   "cell_type": "code",
   "execution_count": null,
   "metadata": {
    "scrolled": false
   },
   "outputs": [],
   "source": []
  },
  {
   "cell_type": "code",
   "execution_count": null,
   "metadata": {
    "scrolled": false
   },
   "outputs": [],
   "source": []
  }
 ],
 "metadata": {
  "kernelspec": {
   "display_name": "Python 3",
   "language": "python",
   "name": "python3"
  },
  "language_info": {
   "codemirror_mode": {
    "name": "ipython",
    "version": 3
   },
   "file_extension": ".py",
   "mimetype": "text/x-python",
   "name": "python",
   "nbconvert_exporter": "python",
   "pygments_lexer": "ipython3",
   "version": "3.7.6"
  }
 },
 "nbformat": 4,
 "nbformat_minor": 4
}
