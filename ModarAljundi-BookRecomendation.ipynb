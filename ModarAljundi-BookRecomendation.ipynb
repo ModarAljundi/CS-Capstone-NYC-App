{
 "cells": [
  {
   "cell_type": "code",
   "execution_count": null,
   "metadata": {},
   "outputs": [],
   "source": []
  },
  {
   "cell_type": "code",
   "execution_count": null,
   "metadata": {
    "scrolled": false
   },
   "outputs": [],
   "source": []
  },
  {
   "cell_type": "code",
   "execution_count": 172,
   "metadata": {},
   "outputs": [
    {
     "data": {
      "text/html": [
       "<div>\n",
       "<style scoped>\n",
       "    .dataframe tbody tr th:only-of-type {\n",
       "        vertical-align: middle;\n",
       "    }\n",
       "\n",
       "    .dataframe tbody tr th {\n",
       "        vertical-align: top;\n",
       "    }\n",
       "\n",
       "    .dataframe thead th {\n",
       "        text-align: right;\n",
       "    }\n",
       "</style>\n",
       "<table border=\"1\" class=\"dataframe\">\n",
       "  <thead>\n",
       "    <tr style=\"text-align: right;\">\n",
       "      <th></th>\n",
       "      <th>BUILDING CLASS AT TIME OF SALE</th>\n",
       "      <th>RESIDENTIAL UNITS</th>\n",
       "      <th>SALE DATE</th>\n",
       "      <th>BOROUGH</th>\n",
       "      <th>ZIP CODE</th>\n",
       "      <th>YEAR BUILT</th>\n",
       "      <th>SALE MONTH</th>\n",
       "      <th>LAND SQUARE FEET</th>\n",
       "      <th>GROSS SQUARE FEET</th>\n",
       "      <th>SALE PRICE</th>\n",
       "    </tr>\n",
       "  </thead>\n",
       "  <tbody>\n",
       "    <tr>\n",
       "      <th>206</th>\n",
       "      <td>A9</td>\n",
       "      <td>1</td>\n",
       "      <td>2016-12-30</td>\n",
       "      <td>1</td>\n",
       "      <td>10011</td>\n",
       "      <td>1901</td>\n",
       "      <td>12</td>\n",
       "      <td>1975</td>\n",
       "      <td>3855</td>\n",
       "      <td>7425000</td>\n",
       "    </tr>\n",
       "    <tr>\n",
       "      <th>207</th>\n",
       "      <td>A4</td>\n",
       "      <td>1</td>\n",
       "      <td>2017-01-30</td>\n",
       "      <td>1</td>\n",
       "      <td>10011</td>\n",
       "      <td>1900</td>\n",
       "      <td>1</td>\n",
       "      <td>1588</td>\n",
       "      <td>5653</td>\n",
       "      <td>10</td>\n",
       "    </tr>\n",
       "    <tr>\n",
       "      <th>208</th>\n",
       "      <td>A4</td>\n",
       "      <td>1</td>\n",
       "      <td>2017-01-30</td>\n",
       "      <td>1</td>\n",
       "      <td>10011</td>\n",
       "      <td>1900</td>\n",
       "      <td>1</td>\n",
       "      <td>1588</td>\n",
       "      <td>5653</td>\n",
       "      <td>10</td>\n",
       "    </tr>\n",
       "    <tr>\n",
       "      <th>209</th>\n",
       "      <td>A4</td>\n",
       "      <td>1</td>\n",
       "      <td>2017-01-30</td>\n",
       "      <td>1</td>\n",
       "      <td>10011</td>\n",
       "      <td>1900</td>\n",
       "      <td>1</td>\n",
       "      <td>1588</td>\n",
       "      <td>5653</td>\n",
       "      <td>10</td>\n",
       "    </tr>\n",
       "    <tr>\n",
       "      <th>929</th>\n",
       "      <td>O1</td>\n",
       "      <td>1</td>\n",
       "      <td>2017-04-18</td>\n",
       "      <td>1</td>\n",
       "      <td>10011</td>\n",
       "      <td>1953</td>\n",
       "      <td>4</td>\n",
       "      <td>6468</td>\n",
       "      <td>14056</td>\n",
       "      <td>42400000</td>\n",
       "    </tr>\n",
       "  </tbody>\n",
       "</table>\n",
       "</div>"
      ],
      "text/plain": [
       "    BUILDING CLASS AT TIME OF SALE  RESIDENTIAL UNITS  SALE DATE  BOROUGH  \\\n",
       "206                             A9                  1 2016-12-30        1   \n",
       "207                             A4                  1 2017-01-30        1   \n",
       "208                             A4                  1 2017-01-30        1   \n",
       "209                             A4                  1 2017-01-30        1   \n",
       "929                             O1                  1 2017-04-18        1   \n",
       "\n",
       "     ZIP CODE  YEAR BUILT  SALE MONTH  LAND SQUARE FEET  GROSS SQUARE FEET  \\\n",
       "206     10011        1901          12              1975               3855   \n",
       "207     10011        1900           1              1588               5653   \n",
       "208     10011        1900           1              1588               5653   \n",
       "209     10011        1900           1              1588               5653   \n",
       "929     10011        1953           4              6468              14056   \n",
       "\n",
       "     SALE PRICE  \n",
       "206     7425000  \n",
       "207          10  \n",
       "208          10  \n",
       "209          10  \n",
       "929    42400000  "
      ]
     },
     "execution_count": 172,
     "metadata": {},
     "output_type": "execute_result"
    }
   ],
   "source": [
    "import numpy as np\n",
    "import pandas as pd\n",
    "import csv\n",
    "import random\n",
    "import uuid\n",
    "\n",
    "from sklearn.ensemble import ExtraTreesClassifier, RandomForestClassifier\n",
    "from sklearn.metrics import accuracy_score, f1_score\n",
    "from sklearn.model_selection import train_test_split\n",
    "\n",
    "import matplotlib.pyplot as plt\n",
    "\n",
    "df = pd.read_csv(\"nyc-rolling-sales.csv\")\n",
    "\n",
    "#filter out rows\n",
    "#BOROUGH:\n",
    "#Manhattan (1), Bronx (2), Brooklyn (3), Queens (4), and Staten Island (5)\n",
    "#singleFamilyHomes = [\"A1\", \"A2\", \"A3\", \"A4\", \"A5\", \"A6\", \"A7\", \"A8\", \"A9\", \"C9\"] #no need, just RESIDENTIAL UNITS == 1\n",
    "\n",
    "    \n",
    "## filter rows\n",
    "# remove null strings\n",
    "df = df[df[\"YEAR BUILT\"] != 0]\n",
    "df = df[df[\"ZIP CODE\"] != 0]\n",
    "df = df[df[\"SALE PRICE\"] != ' -  ']\n",
    "df = df[df[\"LAND SQUARE FEET\"] != ' -  ']\n",
    "df = df[df[\"GROSS SQUARE FEET\"] != ' -  ']\n",
    "# convert to numeric\n",
    "df[\"SALE PRICE\"] = pd.to_numeric(df[\"SALE PRICE\"])\n",
    "df[\"LAND SQUARE FEET\"] = pd.to_numeric(df[\"LAND SQUARE FEET\"])\n",
    "df[\"GROSS SQUARE FEET\"] = pd.to_numeric(df[\"GROSS SQUARE FEET\"])\n",
    "#only get estates with 1 residential unit (single family homes)\n",
    "df = df[df[\"RESIDENTIAL UNITS\"] == 1]\n",
    "\n",
    "#link boroughs to zipcodes:\n",
    "# borough-zipcode data linkage:\n",
    "# -drop all non-unique zipcode rows from the dataframe\n",
    "# then do the following:\n",
    "# pd.set_option(\"display.max_rows\", None, \"display.max_columns\", None)\n",
    "# df[[\"BOROUGH\", \"ZIP CODE\"]]\n",
    "borough1_zipcodes = [10011,10013,10012,10003,10014,10030,10031,10029,10463,10017,10022,10036,10016,10065,10021,10075,10028,10128,10023,10024,10025]\n",
    "borough2_zipcodes = [10457,10458,10469,10466,10475,10468,10467,10473,10472,10464,10803,10465,10460,10471,10453,10452,10474,10451,10456,10462,10461,10455,10459,10454,10470]\n",
    "borough3_zipcodes = [11228,11214,11220,11209,11221,11233,11213,11206,11216,11205,11238,11204,11219,11234,11217,11201,11218,11235,11212,11237,11207,11236,11239,11231,11224,11225,11208,11226,11210,11230,11203,11229,11215,11223,11222,11211,11232,11249]\n",
    "borough4_zipcodes = [11370,11691,11692,11106,11103,11377,11105,11102,11361,11360,11357,11358,11364,11694,11426,11428,11004,11001,11435,11693,11411,11356,11354,11368,11363,11362,11369,11373, 11378, 11040, 11355, 11365, 11367, 11366, 11375, 11374, 11385, 11421, 11432, 11423, 11412, 11427, 11429, 11414, 11372, 11433, 11422, 11418, 11415, 11413, 11101, 11379, 11416, 11417, 11420, 11419, 11436, 11434, 11104]\n",
    "borough5_zipcodes = [10312,10305,10314,10303,10310,10302,10301,10304,10306,10308,10309,10307]\n",
    "borough_list = [borough1_zipcodes,borough2_zipcodes,borough3_zipcodes,borough4_zipcodes,borough5_zipcodes]\n",
    "\n",
    "#convert date\n",
    "df[\"SALE DATE\"] = pd.to_datetime(df[\"SALE DATE\"])\n",
    "df['SALE MONTH'] = pd.DatetimeIndex(df['SALE DATE']).month\n",
    "\n",
    "## filter columns\n",
    "df = df[['BUILDING CLASS AT TIME OF SALE','RESIDENTIAL UNITS','SALE DATE',\n",
    "         'BOROUGH','ZIP CODE','YEAR BUILT','SALE MONTH','LAND SQUARE FEET','GROSS SQUARE FEET','SALE PRICE']]\n",
    "df.head()\n"
   ]
  },
  {
   "cell_type": "code",
   "execution_count": 217,
   "metadata": {},
   "outputs": [
    {
     "name": "stdout",
     "output_type": "stream",
     "text": [
      "[  480146.56         344768.5975       300985.88       ...\n",
      "    98825.045      17132574.25         937089.52879933]\n",
      "Mean Absolute Error: 303356.5836507034\n",
      "Mean Squared Error: 559855262507.7043\n",
      "Root Mean Squared Error: 748234.7643004195\n"
     ]
    }
   ],
   "source": [
    "#train using deep forest\n",
    "\n",
    "X = df.iloc[:, 3:9].values\n",
    "y = df.iloc[:, 9].values\n",
    "\n",
    "#\n",
    "from sklearn.model_selection import train_test_split\n",
    "\n",
    "X_train, X_test, y_train, y_test = train_test_split(X, y, test_size=0.2, random_state=0)\n",
    "\n",
    "# Feature Scaling\n",
    "#from sklearn.preprocessing import StandardScaler\n",
    "\n",
    "from sklearn.ensemble import RandomForestRegressor\n",
    "\n",
    "regressor = RandomForestRegressor(n_estimators=200, random_state=0)\n",
    "regressor.fit(X_train, y_train)\n",
    "y_pred = regressor.predict(X_test)\n",
    "\n",
    "#print(y_pred)\n",
    "\n",
    "#evaluate\n",
    "from sklearn import metrics\n",
    "\n",
    "print('Mean Absolute Error:', metrics.mean_absolute_error(y_test, y_pred))\n",
    "print('Mean Squared Error:', metrics.mean_squared_error(y_test, y_pred))\n",
    "print('Root Mean Squared Error:', np.sqrt(metrics.mean_squared_error(y_test, y_pred)))\n"
   ]
  },
  {
   "cell_type": "code",
   "execution_count": null,
   "metadata": {},
   "outputs": [],
   "source": []
  },
  {
   "cell_type": "code",
   "execution_count": null,
   "metadata": {},
   "outputs": [],
   "source": []
  },
  {
   "cell_type": "code",
   "execution_count": null,
   "metadata": {},
   "outputs": [],
   "source": []
  },
  {
   "cell_type": "code",
   "execution_count": 184,
   "metadata": {},
   "outputs": [
    {
     "ename": "ValueError",
     "evalue": "Number of features of the model must match the input. Model n_features is 2 and input n_features is 1 ",
     "output_type": "error",
     "traceback": [
      "\u001b[1;31m---------------------------------------------------------------------------\u001b[0m",
      "\u001b[1;31mValueError\u001b[0m                                Traceback (most recent call last)",
      "\u001b[1;32m<ipython-input-184-19e5e7ce3046>\u001b[0m in \u001b[0;36m<module>\u001b[1;34m\u001b[0m\n\u001b[0;32m      5\u001b[0m \u001b[0mnum_scatter\u001b[0m \u001b[1;33m=\u001b[0m \u001b[1;36m100\u001b[0m\u001b[1;33m\u001b[0m\u001b[1;33m\u001b[0m\u001b[0m\n\u001b[0;32m      6\u001b[0m \u001b[0mplt\u001b[0m\u001b[1;33m.\u001b[0m\u001b[0mscatter\u001b[0m\u001b[1;33m(\u001b[0m\u001b[1;33m[\u001b[0m\u001b[0mint\u001b[0m\u001b[1;33m(\u001b[0m\u001b[0marr\u001b[0m\u001b[1;33m[\u001b[0m\u001b[1;36m0\u001b[0m\u001b[1;33m]\u001b[0m\u001b[1;33m)\u001b[0m \u001b[1;32mfor\u001b[0m \u001b[0marr\u001b[0m \u001b[1;32min\u001b[0m \u001b[0mX_test\u001b[0m\u001b[1;33m[\u001b[0m\u001b[1;33m:\u001b[0m\u001b[0mnum_scatter\u001b[0m\u001b[1;33m]\u001b[0m\u001b[1;33m]\u001b[0m\u001b[1;33m,\u001b[0m \u001b[1;33m[\u001b[0m\u001b[0mfloat\u001b[0m\u001b[1;33m(\u001b[0m\u001b[0mnum\u001b[0m\u001b[1;33m)\u001b[0m \u001b[1;32mfor\u001b[0m \u001b[0mnum\u001b[0m \u001b[1;32min\u001b[0m \u001b[0my_test\u001b[0m\u001b[1;33m[\u001b[0m\u001b[1;33m:\u001b[0m\u001b[0mnum_scatter\u001b[0m\u001b[1;33m]\u001b[0m\u001b[1;33m]\u001b[0m\u001b[1;33m,\u001b[0m \u001b[0mcolor\u001b[0m \u001b[1;33m=\u001b[0m \u001b[1;34m'red'\u001b[0m\u001b[1;33m)\u001b[0m\u001b[1;33m\u001b[0m\u001b[1;33m\u001b[0m\u001b[0m\n\u001b[1;32m----> 7\u001b[1;33m \u001b[0mplt\u001b[0m\u001b[1;33m.\u001b[0m\u001b[0mplot\u001b[0m\u001b[1;33m(\u001b[0m\u001b[0mX_grid\u001b[0m\u001b[1;33m,\u001b[0m \u001b[0mregressor\u001b[0m\u001b[1;33m.\u001b[0m\u001b[0mpredict\u001b[0m\u001b[1;33m(\u001b[0m\u001b[0mX_grid\u001b[0m\u001b[1;33m)\u001b[0m\u001b[1;33m,\u001b[0m \u001b[0mcolor\u001b[0m \u001b[1;33m=\u001b[0m \u001b[1;34m'blue'\u001b[0m\u001b[1;33m)\u001b[0m\u001b[1;33m\u001b[0m\u001b[1;33m\u001b[0m\u001b[0m\n\u001b[0m\u001b[0;32m      8\u001b[0m \u001b[0mplt\u001b[0m\u001b[1;33m.\u001b[0m\u001b[0mtitle\u001b[0m\u001b[1;33m(\u001b[0m\u001b[1;34m'Check It (Random Forest Regression Model)w/100 trees'\u001b[0m\u001b[1;33m)\u001b[0m\u001b[1;33m\u001b[0m\u001b[1;33m\u001b[0m\u001b[0m\n\u001b[0;32m      9\u001b[0m \u001b[0mplt\u001b[0m\u001b[1;33m.\u001b[0m\u001b[0mxlabel\u001b[0m\u001b[1;33m(\u001b[0m\u001b[1;34m'Year Built'\u001b[0m\u001b[1;33m)\u001b[0m\u001b[1;33m\u001b[0m\u001b[1;33m\u001b[0m\u001b[0m\n",
      "\u001b[1;32mC:\\ProgramData\\Anaconda3\\lib\\site-packages\\sklearn\\ensemble\\_forest.py\u001b[0m in \u001b[0;36mpredict\u001b[1;34m(self, X)\u001b[0m\n\u001b[0;32m    764\u001b[0m         \u001b[0mcheck_is_fitted\u001b[0m\u001b[1;33m(\u001b[0m\u001b[0mself\u001b[0m\u001b[1;33m)\u001b[0m\u001b[1;33m\u001b[0m\u001b[1;33m\u001b[0m\u001b[0m\n\u001b[0;32m    765\u001b[0m         \u001b[1;31m# Check data\u001b[0m\u001b[1;33m\u001b[0m\u001b[1;33m\u001b[0m\u001b[1;33m\u001b[0m\u001b[0m\n\u001b[1;32m--> 766\u001b[1;33m         \u001b[0mX\u001b[0m \u001b[1;33m=\u001b[0m \u001b[0mself\u001b[0m\u001b[1;33m.\u001b[0m\u001b[0m_validate_X_predict\u001b[0m\u001b[1;33m(\u001b[0m\u001b[0mX\u001b[0m\u001b[1;33m)\u001b[0m\u001b[1;33m\u001b[0m\u001b[1;33m\u001b[0m\u001b[0m\n\u001b[0m\u001b[0;32m    767\u001b[0m \u001b[1;33m\u001b[0m\u001b[0m\n\u001b[0;32m    768\u001b[0m         \u001b[1;31m# Assign chunk of trees to jobs\u001b[0m\u001b[1;33m\u001b[0m\u001b[1;33m\u001b[0m\u001b[1;33m\u001b[0m\u001b[0m\n",
      "\u001b[1;32mC:\\ProgramData\\Anaconda3\\lib\\site-packages\\sklearn\\ensemble\\_forest.py\u001b[0m in \u001b[0;36m_validate_X_predict\u001b[1;34m(self, X)\u001b[0m\n\u001b[0;32m    410\u001b[0m         \u001b[0mcheck_is_fitted\u001b[0m\u001b[1;33m(\u001b[0m\u001b[0mself\u001b[0m\u001b[1;33m)\u001b[0m\u001b[1;33m\u001b[0m\u001b[1;33m\u001b[0m\u001b[0m\n\u001b[0;32m    411\u001b[0m \u001b[1;33m\u001b[0m\u001b[0m\n\u001b[1;32m--> 412\u001b[1;33m         \u001b[1;32mreturn\u001b[0m \u001b[0mself\u001b[0m\u001b[1;33m.\u001b[0m\u001b[0mestimators_\u001b[0m\u001b[1;33m[\u001b[0m\u001b[1;36m0\u001b[0m\u001b[1;33m]\u001b[0m\u001b[1;33m.\u001b[0m\u001b[0m_validate_X_predict\u001b[0m\u001b[1;33m(\u001b[0m\u001b[0mX\u001b[0m\u001b[1;33m,\u001b[0m \u001b[0mcheck_input\u001b[0m\u001b[1;33m=\u001b[0m\u001b[1;32mTrue\u001b[0m\u001b[1;33m)\u001b[0m\u001b[1;33m\u001b[0m\u001b[1;33m\u001b[0m\u001b[0m\n\u001b[0m\u001b[0;32m    413\u001b[0m \u001b[1;33m\u001b[0m\u001b[0m\n\u001b[0;32m    414\u001b[0m     \u001b[1;33m@\u001b[0m\u001b[0mproperty\u001b[0m\u001b[1;33m\u001b[0m\u001b[1;33m\u001b[0m\u001b[0m\n",
      "\u001b[1;32mC:\\ProgramData\\Anaconda3\\lib\\site-packages\\sklearn\\tree\\_classes.py\u001b[0m in \u001b[0;36m_validate_X_predict\u001b[1;34m(self, X, check_input)\u001b[0m\n\u001b[0;32m    389\u001b[0m                              \u001b[1;34m\"match the input. Model n_features is %s and \"\u001b[0m\u001b[1;33m\u001b[0m\u001b[1;33m\u001b[0m\u001b[0m\n\u001b[0;32m    390\u001b[0m                              \u001b[1;34m\"input n_features is %s \"\u001b[0m\u001b[1;33m\u001b[0m\u001b[1;33m\u001b[0m\u001b[0m\n\u001b[1;32m--> 391\u001b[1;33m                              % (self.n_features_, n_features))\n\u001b[0m\u001b[0;32m    392\u001b[0m \u001b[1;33m\u001b[0m\u001b[0m\n\u001b[0;32m    393\u001b[0m         \u001b[1;32mreturn\u001b[0m \u001b[0mX\u001b[0m\u001b[1;33m\u001b[0m\u001b[1;33m\u001b[0m\u001b[0m\n",
      "\u001b[1;31mValueError\u001b[0m: Number of features of the model must match the input. Model n_features is 2 and input n_features is 1 "
     ]
    },
    {
     "data": {
      "image/png": "[encoded data removed]",
      "text/plain": [
       "<Figure size 432x288 with 1 Axes>"
      ]
     },
     "metadata": {
      "needs_background": "light"
     },
     "output_type": "display_data"
    }
   ],
   "source": [
    "\n",
    "# visualize location\n",
    "\n",
    "X_grid = np.arange(1900, 2020, 1)\n",
    "X_grid = X_grid.reshape((len(X_grid), 1))\n",
    "num_scatter = 100\n",
    "plt.scatter([int(arr[0]) for arr in X_test[:num_scatter]], [float(num) for num in y_test[:num_scatter]], color = 'red')\n",
    "plt.plot(X_grid, regressor.predict(X_grid), color = 'blue')\n",
    "plt.title('Check It (Random Forest Regression Model)w/100 trees')\n",
    "plt.xlabel('Year Built')\n",
    "plt.ylabel('Price')\n",
    "plt.show()\n"
   ]
  },
  {
   "cell_type": "code",
   "execution_count": null,
   "metadata": {},
   "outputs": [],
   "source": []
  },
  {
   "cell_type": "code",
   "execution_count": null,
   "metadata": {},
   "outputs": [],
   "source": []
  },
  {
   "cell_type": "markdown",
   "metadata": {},
   "source": [
    "### Predictive Method GUI\n",
    "Use a deep forest model to predict how much a single-family house would cost depending on the location, month of sale, and unit specifications."
   ]
  },
  {
   "cell_type": "code",
   "execution_count": 267,
   "metadata": {},
   "outputs": [
    {
     "data": {
      "application/vnd.jupyter.widget-view+json": {
       "model_id": "94644d95329847de9302832b0dce3256",
       "version_major": 2,
       "version_minor": 0
      },
      "text/plain": [
       "SelectionSlider(continuous_update=False, description='Month bought in 2016/2017:', index=8, layout=Layout(heig…"
      ]
     },
     "metadata": {},
     "output_type": "display_data"
    },
    {
     "data": {
      "application/vnd.jupyter.widget-view+json": {
       "model_id": "c670a1952a7b43089635de3553e2c0aa",
       "version_major": 2,
       "version_minor": 0
      },
      "text/plain": [
       "IntSlider(value=1950, continuous_update=False, description='Year house was built:', layout=Layout(height='30px…"
      ]
     },
     "metadata": {},
     "output_type": "display_data"
    },
    {
     "data": {
      "application/vnd.jupyter.widget-view+json": {
       "model_id": "110f1b05a1fe4660b7522059c80557c6",
       "version_major": 2,
       "version_minor": 0
      },
      "text/plain": [
       "Dropdown(description='Location:', layout=Layout(height='30px', width='32%'), options=('Manhattan - 10011', 'Ma…"
      ]
     },
     "metadata": {},
     "output_type": "display_data"
    },
    {
     "data": {
      "application/vnd.jupyter.widget-view+json": {
       "model_id": "a1ec9caf474c46c1a215cfa0bff9a0c6",
       "version_major": 2,
       "version_minor": 0
      },
      "text/plain": [
       "BoundedIntText(value=1975, description='Land sq.ft.', layout=Layout(height='30px', width='32%'), max=10000, st…"
      ]
     },
     "metadata": {},
     "output_type": "display_data"
    },
    {
     "data": {
      "application/vnd.jupyter.widget-view+json": {
       "model_id": "67c5fd0e901046eeb11cc5c9449f3515",
       "version_major": 2,
       "version_minor": 0
      },
      "text/plain": [
       "BoundedIntText(value=3855, description='Gross sq.ft.', layout=Layout(height='30px', width='32%'), max=10000, s…"
      ]
     },
     "metadata": {},
     "output_type": "display_data"
    },
    {
     "data": {
      "application/vnd.jupyter.widget-view+json": {
       "model_id": "daa827b2db1e4fd2a20133e04ed81e7e",
       "version_major": 2,
       "version_minor": 0
      },
      "text/plain": [
       "Button(button_style='success', description='Generate report', style=ButtonStyle(), tooltip='Click me')"
      ]
     },
     "metadata": {},
     "output_type": "display_data"
    },
    {
     "data": {
      "application/vnd.jupyter.widget-view+json": {
       "model_id": "1e85b4235d434588a1640fe5c6103af7",
       "version_major": 2,
       "version_minor": 0
      },
      "text/plain": [
       "Output()"
      ]
     },
     "metadata": {},
     "output_type": "display_data"
    }
   ],
   "source": [
    "# UI\n",
    "import ipywidgets as widgets\n",
    "\n",
    "wide_layout=widgets.Layout(width='40%', height='30px')\n",
    "med_layout=widgets.Layout(width='32%', height='30px')\n",
    "label_layout={'description_width': 'initial'}\n",
    "## Month slider\n",
    "user_month = widgets.SelectionSlider(\n",
    "    options=[('January', 1),\n",
    "             ('February', 2),\n",
    "             ('March', 3),\n",
    "             ('April', 4),\n",
    "             (\"May\", 5),\n",
    "             (\"June\", 6),\n",
    "             (\"July\", 7),\n",
    "             (\"August\", 8),\n",
    "             (\"September\", 9),\n",
    "             (\"October\", 10),\n",
    "             (\"November\", 11),\n",
    "             (\"December\",12)],\n",
    "    value=9,\n",
    "    description='Month bought in 2016/2017:',\n",
    "    disabled=False,\n",
    "    continuous_update=False,\n",
    "    orientation='horizontal',\n",
    "    readout=True,\n",
    "    style=label_layout,\n",
    "    layout=wide_layout\n",
    ")\n",
    "\n",
    "display(user_month)\n",
    "\n",
    "##\n",
    "user_yearbuilt = widgets.IntSlider(\n",
    "    value=1950,\n",
    "    min=1899,\n",
    "    max=2016,\n",
    "    step=1,\n",
    "    description='Year house was built:',\n",
    "    disabled=False,\n",
    "    continuous_update=False,\n",
    "    orientation='horizontal',\n",
    "    readout=True,\n",
    "    readout_format='d',\n",
    "    style=label_layout,\n",
    "    layout=wide_layout\n",
    ")\n",
    "\n",
    "display(user_yearbuilt)\n",
    "\n",
    "## Borough/zip code dropdown\n",
    "borough_zipcode_array = []\n",
    "for line in borough1_zipcodes:\n",
    "    borough_zipcode_array.append(\"Manhattan - \" + str(line))\n",
    "for line in borough2_zipcodes:\n",
    "    borough_zipcode_array.append(\"Bronx - \" + str(line))\n",
    "for line in borough3_zipcodes:\n",
    "    borough_zipcode_array.append(\"Brooklyn - \" + str(line))\n",
    "for line in borough4_zipcodes:\n",
    "    borough_zipcode_array.append(\"Queens - \" + str(line))\n",
    "for line in borough5_zipcodes:\n",
    "    borough_zipcode_array.append(\"Staten Island - \" + str(line))\n",
    "\n",
    "user_borough = widgets.Dropdown(\n",
    "    options=borough_zipcode_array,#[('Manhattan', 1), ('Bronx', 2), ('Brooklyn', 3), ('Queens', 4), ('Staten Island', 5)],\n",
    "\n",
    "    description='Location:',\n",
    "    style=label_layout,\n",
    "    layout=med_layout\n",
    ")\n",
    "display(user_borough)\n",
    "\n",
    "## size\n",
    "user_land_sqrft= widgets.BoundedIntText(\n",
    "    value=1975,\n",
    "    min=0,\n",
    "    max=10000,\n",
    "    step=1,\n",
    "    description='Land sq.ft.',\n",
    "    disabled=False,\n",
    "    style=label_layout,\n",
    "    layout=med_layout\n",
    ")\n",
    "display(user_land_sqrft)\n",
    "user_gross_sqrft = widgets.BoundedIntText(\n",
    "    value=3855,\n",
    "    min=0,\n",
    "    max=10000,\n",
    "    step=1,\n",
    "    description='Gross sq.ft.',\n",
    "    disabled=False,\n",
    "    style=label_layout,\n",
    "    layout=med_layout\n",
    ")\n",
    "display(user_gross_sqrft)\n",
    "## Generate button\n",
    "gen_button = widgets.Button(\n",
    "    description='Generate report',\n",
    "    disabled=False,\n",
    "    button_style='success', # 'success', 'info', 'warning', 'danger' or ''\n",
    "    tooltip='Click me',\n",
    "    icon='' # (FontAwesome names without the `fa-` prefix)\n",
    ")\n",
    "gen_output = widgets.Output()\n",
    "\n",
    "display(gen_button, gen_output)\n",
    "\n",
    "def on_button_clicked(b):\n",
    "    with gen_output:\n",
    "        #predict new result\n",
    "        sample = np.array([user_borough.value,\n",
    "                           user_zipcode.value,\n",
    "                           user_yearbuilt.value,\n",
    "                           user_month.value,\n",
    "                           user_land_sqrft.value,\n",
    "                           user_gross_sqrft.value]).reshape(1, -1)\n",
    "        y_pred = regressor.predict(sample)\n",
    "        print(\"Projected residance price: $\" + f\"{int(y_pred):,d}\")\n",
    "\n",
    "gen_button.on_click(on_button_clicked)"
   ]
  },
  {
   "cell_type": "code",
   "execution_count": 193,
   "metadata": {},
   "outputs": [
    {
     "data": {
      "application/vnd.jupyter.widget-view+json": {
       "model_id": "cdae46d911e5410e94819e69e6f1ab3a",
       "version_major": 2,
       "version_minor": 0
      },
      "text/plain": [
       "IntSlider(value=0)"
      ]
     },
     "metadata": {},
     "output_type": "display_data"
    },
    {
     "data": {
      "application/vnd.jupyter.widget-view+json": {
       "model_id": "cf994af5696647218a6f62d768ea5dfa",
       "version_major": 2,
       "version_minor": 0
      },
      "text/plain": [
       "Output()"
      ]
     },
     "metadata": {},
     "output_type": "display_data"
    }
   ],
   "source": [
    "int_range = widgets.IntSlider()\n",
    "output2 = widgets.Output()\n",
    "\n",
    "display(int_range, output2)\n",
    "\n",
    "def on_value_change(change):\n",
    "    with output2:\n",
    "        print('new')\n",
    "\n",
    "int_range.observe(on_value_change)"
   ]
  },
  {
   "cell_type": "code",
   "execution_count": null,
   "metadata": {},
   "outputs": [],
   "source": []
  },
  {
   "cell_type": "code",
   "execution_count": null,
   "metadata": {},
   "outputs": [],
   "source": []
  },
  {
   "cell_type": "code",
   "execution_count": 131,
   "metadata": {},
   "outputs": [
    {
     "data": {
      "application/vnd.jupyter.widget-view+json": {
       "model_id": "c263239b451f450886f6f1c0190086b7",
       "version_major": 2,
       "version_minor": 0
      },
      "text/plain": [
       "FloatSlider(value=7.5, continuous_update=False, description='Test:', max=10.0, readout_format='.1f')"
      ]
     },
     "metadata": {},
     "output_type": "display_data"
    },
    {
     "name": "stdout",
     "output_type": "stream",
     "text": [
      "7.5\n"
     ]
    }
   ],
   "source": [
    "import ipywidgets as widgets\n",
    "a = widgets.FloatSlider(\n",
    "    value=7.5,\n",
    "    min=0,\n",
    "    max=10.0,\n",
    "    step=0.1,\n",
    "    description='Test:',\n",
    "    disabled=False,\n",
    "    continuous_update=False,\n",
    "    orientation='horizontal',\n",
    "    readout=True,\n",
    "    readout_format='.1f',\n",
    ")\n",
    "\n",
    "display(a)\n",
    "print(a.value)\n"
   ]
  },
  {
   "cell_type": "code",
   "execution_count": 132,
   "metadata": {},
   "outputs": [
    {
     "data": {
      "application/vnd.jupyter.widget-view+json": {
       "model_id": "3f5325be2cc04936bb5447e52bc3821e",
       "version_major": 2,
       "version_minor": 0
      },
      "text/plain": [
       "DatePicker(value=None, description='Pick a month')"
      ]
     },
     "metadata": {},
     "output_type": "display_data"
    }
   ],
   "source": [
    "import ipywidgets as widgets\n",
    "user_date = widgets.DatePicker(\n",
    "    description='Pick a month',\n",
    "    disabled=False\n",
    ")\n",
    "\n",
    "display(user_date)"
   ]
  },
  {
   "cell_type": "code",
   "execution_count": null,
   "metadata": {},
   "outputs": [],
   "source": []
  }
 ],
 "metadata": {
  "kernelspec": {
   "display_name": "Python 3",
   "language": "python",
   "name": "python3"
  },
  "language_info": {
   "codemirror_mode": {
    "name": "ipython",
    "version": 3
   },
   "file_extension": ".py",
   "mimetype": "text/x-python",
   "name": "python",
   "nbconvert_exporter": "python",
   "pygments_lexer": "ipython3",
   "version": "3.7.6"
  }
 },
 "nbformat": 4,
 "nbformat_minor": 4
}
